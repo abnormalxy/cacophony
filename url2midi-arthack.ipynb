{
 "cells": [
  {
   "cell_type": "code",
   "execution_count": 1,
   "metadata": {
    "collapsed": false,
    "hideCode": true
   },
   "outputs": [],
   "source": [
    "from __future__ import print_function\n",
    "from pandas import *\n",
    "import urllib2\n",
    "from math import ceil\n",
    "from midiutil import MIDIFile\n",
    "import random\n",
    "from music21 import midi as midiLib\n",
    "from pygame import *\n",
    "#import json\n",
    "\n",
    "import hide_code\n",
    "\n",
    "from ipywidgets import *\n",
    "from IPython.display import display, clear_output\n",
    "\n",
    "\n",
    "from ipywidgets import interact, interactive, fixed, interact_manual\n",
    "import ipywidgets as widgets"
   ]
  },
  {
   "cell_type": "code",
   "execution_count": 2,
   "metadata": {
    "collapsed": false,
    "hideCode": true
   },
   "outputs": [],
   "source": [
    "http_handler = urllib2.HTTPHandler(debuglevel=0)\n",
    "https_handler = urllib2.HTTPSHandler(debuglevel=0)\n",
    "#http_proxy = urllib2.ProxyHandler({'http': 'http://proxy-chain.intel.com:911', 'https': 'http://proxy-chain.intel.com:912'})\n",
    "\n",
    "#urllib2.ProxyHandler()\n",
    "\n",
    "opener = urllib2.OpenerDirector()\n",
    "opener.add_handler(http_handler)\n",
    "opener.add_handler(https_handler)\n",
    "#opener.add_handler(http_proxy)"
   ]
  },
  {
   "cell_type": "code",
   "execution_count": 3,
   "metadata": {
    "collapsed": true,
    "hideCode": false
   },
   "outputs": [],
   "source": [
    "def play(url):\n",
    "    play = widgets.Button(description=\"Play\")\n",
    "    display(play)\n",
    "    \n",
    "    def on_play_clicked(b):\n",
    "        response = opener.open(url)\n",
    "        htmlText = response.read()\n",
    "        htmlWords = htmlText.split()\n",
    "        \n",
    "        sentimentdf = read_csv(\"AFINN-111.txt\", sep=\"\\t\")\n",
    "        sentimentdf = sentimentdf.set_index('word')\n",
    "        \n",
    "        midi = []\n",
    "        duration = []\n",
    "        for wordu in htmlWords:\n",
    "            word = wordu.lower()\n",
    "            if word in sentimentdf.index:\n",
    "                midi.append(sentimentdf.sentiment.loc[word]*(1+random.random()))\n",
    "                duration.append(len(word))\n",
    "        \n",
    "        midiSer = Series(midi)\n",
    "        avg = midiSer.mean()\n",
    "        print('Avergage sentiment:', avg)\n",
    "        \n",
    "        note = float(1)/12\n",
    "        avgnote = int(ceil(avg/note))\n",
    "        middle = 48 \n",
    "        \n",
    "        degrees = []\n",
    "        for i in range(len(midi)):\n",
    "            p = middle + avgnote + midi[i]\n",
    "            degrees.append((p, float(duration[i])/50))\n",
    "            \n",
    "        track    = 0\n",
    "        channel  = 0\n",
    "        time     = 0   # In beats\n",
    "        #duration = 1   # In beats\n",
    "        tempo    = 60  # In BPM\n",
    "        volume   = 127 # 0-127, as per the MIDI standard\n",
    "\n",
    "        MyMIDI = MIDIFile(1, adjust_origin=True) # One track, defaults to format 1 (tempo track automatically created)\n",
    "    \n",
    "        MyMIDI.addTempo(track, time, tempo)\n",
    "\n",
    "        for pitch, duration in degrees:\n",
    "            MyMIDI.addNote(track, channel, pitch, time, duration, volume)\n",
    "            time = time + duration\n",
    "            if time > 20:\n",
    "                break\n",
    "                \n",
    "        with open(\"test.mid\", \"wb\") as output_file:\n",
    "            MyMIDI.writeFile(output_file)\n",
    "            \n",
    "        mf = midiLib.MidiFile()\n",
    "        mf.open(\"test.mid\")\n",
    "        mf.read()\n",
    "        s = midiLib.translate.midiFileToStream(mf)\n",
    "        sp = midiLib.realtime.StreamPlayer(s)\n",
    "        sp.play()\n",
    "        \n",
    "        play.close()\n",
    "        \n",
    "    play.on_click(on_play_clicked)\n",
    "    clear_output(True)"
   ]
  },
  {
   "cell_type": "markdown",
   "metadata": {},
   "source": [
    "**Instructions**\n",
    "\n",
    "Instructions go here\n",
    "\n",
    "Make sure the url exists and you have the http:// part"
   ]
  },
  {
   "cell_type": "code",
   "execution_count": 9,
   "metadata": {
    "collapsed": false,
    "hideCode": false
   },
   "outputs": [
    {
     "name": "stdout",
     "output_type": "stream",
     "text": [
      "Avergage sentiment: -0.194846269345\n"
     ]
    }
   ],
   "source": [
    "text = widgets.Text(\"http://www.foxnews.com\")\n",
    "display(text)\n",
    "print(\"Enter url in box above and hit return\")\n",
    "\n",
    "def handle_submit(sender):\n",
    "    play(text.value)\n",
    "    print(text.value)\n",
    "    clear_output(True)\n",
    "\n",
    "text.on_submit(handle_submit)"
   ]
  },
  {
   "cell_type": "code",
   "execution_count": null,
   "metadata": {
    "collapsed": true
   },
   "outputs": [],
   "source": []
  }
 ],
 "metadata": {
  "celltoolbar": "Hide code",
  "kernelspec": {
   "display_name": "Python 2",
   "language": "python",
   "name": "python2"
  },
  "language_info": {
   "codemirror_mode": {
    "name": "ipython",
    "version": 2
   },
   "file_extension": ".py",
   "mimetype": "text/x-python",
   "name": "python",
   "nbconvert_exporter": "python",
   "pygments_lexer": "ipython2",
   "version": "2.7.13"
  },
  "widgets": {
   "state": {
    "0f6b40b80b334015806904d0d7c2f44d": {
     "views": [
      {
       "cell_index": 4
      }
     ]
    },
    "48395b35165d4b048f2c35612ec10950": {
     "views": [
      {
       "cell_index": 5
      }
     ]
    },
    "4990ca16c04b4f3dabfa60449faac9ef": {
     "views": [
      {
       "cell_index": 4
      }
     ]
    },
    "4a697b58c197473e88174ec3f141bced": {
     "views": [
      {
       "cell_index": 5
      }
     ]
    },
    "4ac0d063699740e2802408c2166d47f3": {
     "views": [
      {
       "cell_index": 5
      }
     ]
    },
    "7cfb2bf1a2b04f67b52acdbc94ee2e8e": {
     "views": [
      {
       "cell_index": 4
      }
     ]
    },
    "7fc8a4f87f624d23af3ed9b78233bde5": {
     "views": [
      {
       "cell_index": 4
      }
     ]
    },
    "869acc5ef57a496a99aab644dfc1769f": {
     "views": [
      {
       "cell_index": 4
      }
     ]
    },
    "8b173726f1db4cf8b585762b5d496de4": {
     "views": [
      {
       "cell_index": 4
      }
     ]
    },
    "9c2f7544c504408a83bd78a65830fb5c": {
     "views": [
      {
       "cell_index": 5
      }
     ]
    },
    "c5bb305c33ce4016a1e0f4d285bd0813": {
     "views": [
      {
       "cell_index": 4
      }
     ]
    },
    "d49fd29b370249c4ae10fb7bf494607f": {
     "views": [
      {
       "cell_index": 4
      }
     ]
    },
    "d4cf44face3949798705cbde6b4adbbe": {
     "views": [
      {
       "cell_index": 4
      }
     ]
    },
    "dfbd34ac941642dda83005d1f19e49ae": {
     "views": [
      {
       "cell_index": 4
      }
     ]
    },
    "eb2302bb34a14be1b9469b33ebf22728": {
     "views": [
      {
       "cell_index": 4
      }
     ]
    },
    "eeae56620ba74508a79b725d59c2fe5c": {
     "views": [
      {
       "cell_index": 4
      }
     ]
    },
    "fbc7380dcd5b4ba993cc1008f984b1c1": {
     "views": [
      {
       "cell_index": 4
      }
     ]
    }
   },
   "version": "1.2.0"
  }
 },
 "nbformat": 4,
 "nbformat_minor": 2
}
