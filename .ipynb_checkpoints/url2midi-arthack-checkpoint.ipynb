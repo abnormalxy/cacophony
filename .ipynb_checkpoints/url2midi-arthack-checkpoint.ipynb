{
 "cells": [
  {
   "cell_type": "code",
   "execution_count": 1,
   "metadata": {
    "collapsed": false,
    "hideCode": false
   },
   "outputs": [],
   "source": [
    "from __future__ import print_function\n",
    "from pandas import *\n",
    "import urllib2\n",
    "from math import ceil\n",
    "from midiutil import MIDIFile\n",
    "import random\n",
    "from music21 import midi as midiLib\n",
    "from pygame import *\n",
    "\n",
    "import hide_code\n",
    "\n",
    "from ipywidgets import *\n",
    "from IPython.display import display, clear_output\n",
    "\n",
    "\n",
    "from ipywidgets import interact, interactive, fixed, interact_manual\n",
    "import ipywidgets as widgets"
   ]
  },
  {
   "cell_type": "code",
   "execution_count": 2,
   "metadata": {
    "collapsed": false,
    "hideCode": false
   },
   "outputs": [],
   "source": [
    "http_handler = urllib2.HTTPHandler(debuglevel=0)\n",
    "https_handler = urllib2.HTTPSHandler(debuglevel=0)\n",
    "http_proxy = urllib2.ProxyHandler({'http': 'http://proxy-chain.intel.com:911', 'https': 'http://proxy-chain.intel.com:912'})\n",
    "\n",
    "urllib2.ProxyHandler()\n",
    "\n",
    "opener = urllib2.OpenerDirector()\n",
    "opener.add_handler(http_handler)\n",
    "opener.add_handler(https_handler)\n",
    "opener.add_handler(http_proxy)"
   ]
  },
  {
   "cell_type": "code",
   "execution_count": 6,
   "metadata": {
    "collapsed": true,
    "hideCode": false
   },
   "outputs": [],
   "source": [
    "def play(url):\n",
    "    play = widgets.Button(description=\"Play\")\n",
    "    display(play)\n",
    "    \n",
    "    def on_play_clicked(b):\n",
    "        response = opener.open(url)\n",
    "        htmlText = response.read()\n",
    "        htmlWords = htmlText.split()\n",
    "        \n",
    "        sentimentdf = read_csv(\"AFINN-111.txt\", sep=\"\\t\")\n",
    "        sentimentdf = sentimentdf.set_index('word')\n",
    "        \n",
    "        midi = []\n",
    "        duration = []\n",
    "        for wordu in htmlWords:\n",
    "            word = wordu.lower()\n",
    "            if word in sentimentdf.index:\n",
    "                midi.append(sentimentdf.sentiment.loc[word]*(1+random.random()))\n",
    "                duration.append(len(word))\n",
    "        \n",
    "        midiSer = Series(midi)\n",
    "        avg = midiSer.mean()\n",
    "        print('Avergage sentiment:', avg)\n",
    "        \n",
    "        note = float(1)/12\n",
    "        avgnote = int(ceil(avg/note))\n",
    "        middle = 48 \n",
    "        \n",
    "        degrees = []\n",
    "        for i in range(len(midi)):\n",
    "            p = middle + avgnote + midi[i]\n",
    "            degrees.append((p, float(duration[i])/50))\n",
    "            \n",
    "        track    = 0\n",
    "        channel  = 0\n",
    "        time     = 0   # In beats\n",
    "        #duration = 1   # In beats\n",
    "        tempo    = 60  # In BPM\n",
    "        volume   = 127 # 0-127, as per the MIDI standard\n",
    "\n",
    "        MyMIDI = MIDIFile(1, adjust_origin=True) # One track, defaults to format 1 (tempo track automatically created)\n",
    "    \n",
    "        MyMIDI.addTempo(track, time, tempo)\n",
    "\n",
    "        for pitch, duration in degrees:\n",
    "            MyMIDI.addNote(track, channel, pitch, time, duration, volume)\n",
    "            time = time + duration\n",
    "            if time > 20:\n",
    "                break\n",
    "                \n",
    "        with open(\"cnn-4-3-16.mid\", \"wb\") as output_file:\n",
    "            MyMIDI.writeFile(output_file)\n",
    "            \n",
    "        mf = midiLib.MidiFile()\n",
    "        mf.open(\"cnn-4-3-16.mid\")\n",
    "        mf.read()\n",
    "        s = midiLib.translate.midiFileToStream(mf)\n",
    "        sp = midiLib.realtime.StreamPlayer(s)\n",
    "        sp.play()\n",
    "        \n",
    "        play.close()\n",
    "        \n",
    "    play.on_click(on_play_clicked)\n",
    "    clear_output(True)"
   ]
  },
  {
   "cell_type": "markdown",
   "metadata": {},
   "source": [
    "**FAQ**\n",
    "\n",
    "**What is this?**\n",
    "\n",
    "It translates web pages to songs that allow you to determine the mood of the text or the website\n",
    "\n",
    "**How does it do it?**\n",
    "\n",
    "The code extracts the text from a web page specified by the user and uses a sentiment dictionary to replace words by numbers related to how positive or negative that particular word is, from -5 for words like 'slut' or 'cocksucker'to +5 for words like 'thrilled' and 'superb.' The average sentiment score is used to adjust the midi tone centroid, so a completely neutral article would oscillate around middle C, a positive would be at a higher pitch and a negative one at a lower pitch. Each particular note is a word and the number of letters of the word is its duration. \n",
    "\n",
    "**Why does it matter?**\n",
    "\n",
    "It does not. It just lets you realize how somber some news articles can be, some of them are pretty joyful, and very few are neutral. And it was fun to build. Future versions would make it easier to play with settings like the tempo or maybe attempt to create some chords. \n",
    "\n",
    "**Instructions**\n",
    "\n",
    "Make sure the url exists and you have the 'http://' part. Type it or paste it into the box below and hit enter. I am using a Windows keyboard with MacOS, so to copy press the Windows icon + C, and to paste it is the Windows icon + v. Once you hit enter a 'Play' button will appear. Click on the 'Play' button and it will show you the average sentiment of the webpage and will play a song (capped at 20 seconds).\n",
    "\n",
    "**More questions?**\n",
    "\n",
    "Talk to Jorge, he is around."
   ]
  },
  {
   "cell_type": "code",
   "execution_count": 4,
   "metadata": {
    "collapsed": false,
    "hideCode": true
   },
   "outputs": [
    {
     "name": "stdout",
     "output_type": "stream",
     "text": [
      "Avergage sentiment: -1.53024271341\n"
     ]
    }
   ],
   "source": [
    "text = widgets.Text(\"http://www.foxnews.com\")\n",
    "display(text)\n",
    "print(\"Enter url in box above and hit return\")\n",
    "\n",
    "def handle_submit(sender):\n",
    "    play(text.value)\n",
    "    print(text.value)\n",
    "    clear_output(True)\n",
    "\n",
    "text.on_submit(handle_submit)"
   ]
  },
  {
   "cell_type": "code",
   "execution_count": null,
   "metadata": {
    "collapsed": true
   },
   "outputs": [],
   "source": []
  }
 ],
 "metadata": {
  "celltoolbar": "Hide code",
  "kernelspec": {
   "display_name": "Python 2",
   "language": "python",
   "name": "python2"
  },
  "language_info": {
   "codemirror_mode": {
    "name": "ipython",
    "version": 2
   },
   "file_extension": ".py",
   "mimetype": "text/x-python",
   "name": "python",
   "nbconvert_exporter": "python",
   "pygments_lexer": "ipython2",
   "version": "2.7.13"
  },
  "widgets": {
   "state": {
    "c1d483d64cbc4b2095a781e47e6a52ac": {
     "views": [
      {
       "cell_index": 4
      }
     ]
    }
   },
   "version": "1.2.0"
  }
 },
 "nbformat": 4,
 "nbformat_minor": 2
}
